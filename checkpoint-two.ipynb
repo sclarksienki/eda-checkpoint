{
 "cells": [
  {
   "cell_type": "markdown",
   "metadata": {
    "azdata_cell_guid": "151601c9-ca7a-412e-af80-c62a87e0837e"
   },
   "source": [
    "# Checkpoint Two: Exploratory Data Analysis\n",
    "\n",
    "Now that your chosen dataset is approved, it is time to start working on your analysis. Use this notebook to perform your EDA and make notes where directed to as you work.\n",
    "\n",
    "## Getting Started\n",
    "\n",
    "Since we have not provided your dataset for you, you will need to load the necessary files in this repository. Make sure to include a link back to the original dataset here as well.\n",
    "\n",
    "My dataset: https://www.kaggle.com/datasets/aishahakami/call-of-duty-players\n",
    "\n",
    "Your first task in EDA is to import necessary libraries and create a dataframe(s). Make note in the form of code comments of what your thought process is as you work on this setup task."
   ]
  },
  {
   "cell_type": "code",
   "execution_count": 1,
   "metadata": {
    "azdata_cell_guid": "7b503e37-6df5-4433-acfb-678b1346db14"
   },
   "outputs": [],
   "source": [
    "#Importing pandas and numpy in order to read dataset and run basic descriptive statistics\n",
    "import pandas as pd\n",
    "import numpy as np\n",
    "#Improting matplotlib and seaborn to create visuals for EDA and data cleaning\n",
    "import matplotlib.pyplot as plt\n",
    "import seaborn as sns\n",
    "\n",
    "#Reading CSV into jupyter and creating Call of Duty dataframe -- 'cod_df'\n",
    "cod_df=pd.read_csv('~/Library/Mobile Documents/com~apple~CloudDocs/LC_DA/Final_Project/cod.csv')"
   ]
  },
  {
   "cell_type": "code",
   "execution_count": 2,
   "metadata": {},
   "outputs": [
    {
     "data": {
      "text/html": [
       "<div>\n",
       "<style scoped>\n",
       "    .dataframe tbody tr th:only-of-type {\n",
       "        vertical-align: middle;\n",
       "    }\n",
       "\n",
       "    .dataframe tbody tr th {\n",
       "        vertical-align: top;\n",
       "    }\n",
       "\n",
       "    .dataframe thead th {\n",
       "        text-align: right;\n",
       "    }\n",
       "</style>\n",
       "<table border=\"1\" class=\"dataframe\">\n",
       "  <thead>\n",
       "    <tr style=\"text-align: right;\">\n",
       "      <th></th>\n",
       "      <th>name</th>\n",
       "      <th>wins</th>\n",
       "      <th>kills</th>\n",
       "      <th>kdRatio</th>\n",
       "      <th>killstreak</th>\n",
       "      <th>level</th>\n",
       "      <th>losses</th>\n",
       "      <th>prestige</th>\n",
       "      <th>hits</th>\n",
       "      <th>timePlayed</th>\n",
       "      <th>headshots</th>\n",
       "      <th>averageTime</th>\n",
       "      <th>gamesPlayed</th>\n",
       "      <th>[</th>\n",
       "      <th>misses</th>\n",
       "      <th>xp</th>\n",
       "      <th>scorePerMinute</th>\n",
       "      <th>shots</th>\n",
       "      <th>deaths</th>\n",
       "    </tr>\n",
       "  </thead>\n",
       "  <tbody>\n",
       "    <tr>\n",
       "      <th>0</th>\n",
       "      <td>RggRt45#4697369</td>\n",
       "      <td>0</td>\n",
       "      <td>0</td>\n",
       "      <td>0.00000</td>\n",
       "      <td>0</td>\n",
       "      <td>1</td>\n",
       "      <td>0</td>\n",
       "      <td>0</td>\n",
       "      <td>0</td>\n",
       "      <td>0</td>\n",
       "      <td>0</td>\n",
       "      <td>0.0</td>\n",
       "      <td>0</td>\n",
       "      <td>0</td>\n",
       "      <td>0</td>\n",
       "      <td>0</td>\n",
       "      <td>0.0</td>\n",
       "      <td>0</td>\n",
       "      <td>0</td>\n",
       "    </tr>\n",
       "    <tr>\n",
       "      <th>1</th>\n",
       "      <td>JohniceRex#9176033</td>\n",
       "      <td>0</td>\n",
       "      <td>0</td>\n",
       "      <td>0.00000</td>\n",
       "      <td>0</td>\n",
       "      <td>1</td>\n",
       "      <td>0</td>\n",
       "      <td>110</td>\n",
       "      <td>0</td>\n",
       "      <td>7</td>\n",
       "      <td>0</td>\n",
       "      <td>7.0</td>\n",
       "      <td>0</td>\n",
       "      <td>0</td>\n",
       "      <td>0</td>\n",
       "      <td>700</td>\n",
       "      <td>0.0</td>\n",
       "      <td>0</td>\n",
       "      <td>16</td>\n",
       "    </tr>\n",
       "    <tr>\n",
       "      <th>2</th>\n",
       "      <td>bootybootykill#1892064</td>\n",
       "      <td>0</td>\n",
       "      <td>66</td>\n",
       "      <td>1.03125</td>\n",
       "      <td>0</td>\n",
       "      <td>9</td>\n",
       "      <td>0</td>\n",
       "      <td>110</td>\n",
       "      <td>0</td>\n",
       "      <td>32</td>\n",
       "      <td>16</td>\n",
       "      <td>32.0</td>\n",
       "      <td>0</td>\n",
       "      <td>1</td>\n",
       "      <td>0</td>\n",
       "      <td>48300</td>\n",
       "      <td>0.0</td>\n",
       "      <td>0</td>\n",
       "      <td>64</td>\n",
       "    </tr>\n",
       "    <tr>\n",
       "      <th>3</th>\n",
       "      <td>JNaCo#5244172</td>\n",
       "      <td>3</td>\n",
       "      <td>2</td>\n",
       "      <td>0.40000</td>\n",
       "      <td>0</td>\n",
       "      <td>1</td>\n",
       "      <td>0</td>\n",
       "      <td>0</td>\n",
       "      <td>0</td>\n",
       "      <td>3</td>\n",
       "      <td>0</td>\n",
       "      <td>3.0</td>\n",
       "      <td>0</td>\n",
       "      <td>0</td>\n",
       "      <td>0</td>\n",
       "      <td>1150</td>\n",
       "      <td>0.0</td>\n",
       "      <td>0</td>\n",
       "      <td>5</td>\n",
       "    </tr>\n",
       "    <tr>\n",
       "      <th>4</th>\n",
       "      <td>gomezyayo_007#6596687</td>\n",
       "      <td>0</td>\n",
       "      <td>2</td>\n",
       "      <td>0.20000</td>\n",
       "      <td>0</td>\n",
       "      <td>1</td>\n",
       "      <td>0</td>\n",
       "      <td>110</td>\n",
       "      <td>0</td>\n",
       "      <td>5</td>\n",
       "      <td>1</td>\n",
       "      <td>5.0</td>\n",
       "      <td>0</td>\n",
       "      <td>0</td>\n",
       "      <td>0</td>\n",
       "      <td>1000</td>\n",
       "      <td>0.0</td>\n",
       "      <td>0</td>\n",
       "      <td>10</td>\n",
       "    </tr>\n",
       "  </tbody>\n",
       "</table>\n",
       "</div>"
      ],
      "text/plain": [
       "                     name  wins  kills  kdRatio  killstreak  level  losses  \\\n",
       "0         RggRt45#4697369     0      0  0.00000           0      1       0   \n",
       "1      JohniceRex#9176033     0      0  0.00000           0      1       0   \n",
       "2  bootybootykill#1892064     0     66  1.03125           0      9       0   \n",
       "3           JNaCo#5244172     3      2  0.40000           0      1       0   \n",
       "4   gomezyayo_007#6596687     0      2  0.20000           0      1       0   \n",
       "\n",
       "   prestige  hits  timePlayed  headshots  averageTime  gamesPlayed  [  misses  \\\n",
       "0         0     0           0          0          0.0            0  0       0   \n",
       "1       110     0           7          0          7.0            0  0       0   \n",
       "2       110     0          32         16         32.0            0  1       0   \n",
       "3         0     0           3          0          3.0            0  0       0   \n",
       "4       110     0           5          1          5.0            0  0       0   \n",
       "\n",
       "      xp  scorePerMinute  shots  deaths  \n",
       "0      0             0.0      0       0  \n",
       "1    700             0.0      0      16  \n",
       "2  48300             0.0      0      64  \n",
       "3   1150             0.0      0       5  \n",
       "4   1000             0.0      0      10  "
      ]
     },
     "execution_count": 2,
     "metadata": {},
     "output_type": "execute_result"
    }
   ],
   "source": [
    "#Checking to see if reading CSV looks successful\n",
    "cod_df.head()"
   ]
  },
  {
   "cell_type": "markdown",
   "metadata": {
    "azdata_cell_guid": "129ce836-524b-4ea8-b394-a959f9308d6a"
   },
   "source": [
    "## Get to Know the Numbers\n",
    "\n",
    "Now that you have everything setup, put any code that you use to get to know the dataframe and its rows and columns better in the cell below. You can use whatever techniques you like, except for visualizations. You will put those in a separate section.\n",
    "\n",
    "When working on your code, make sure to leave comments so that your mentors can understand your thought process."
   ]
  },
  {
   "cell_type": "code",
   "execution_count": 3,
   "metadata": {},
   "outputs": [
    {
     "data": {
      "text/plain": [
       "(1558, 19)"
      ]
     },
     "execution_count": 3,
     "metadata": {},
     "output_type": "execute_result"
    }
   ],
   "source": [
    "#How many rows and columns in this dataframe?\n",
    "cod_df.shape"
   ]
  },
  {
   "cell_type": "code",
   "execution_count": 4,
   "metadata": {
    "azdata_cell_guid": "0ca2d318-f6e8-43ef-a33e-5304d24d928d",
    "tags": []
   },
   "outputs": [
    {
     "data": {
      "text/plain": [
       "Index(['name', 'wins', 'kills', 'kdRatio', 'killstreak', 'level', 'losses',\n",
       "       'prestige', 'hits', 'timePlayed', 'headshots', 'averageTime',\n",
       "       'gamesPlayed', '[', 'misses', 'xp', 'scorePerMinute', 'shots',\n",
       "       'deaths'],\n",
       "      dtype='object')"
      ]
     },
     "execution_count": 4,
     "metadata": {},
     "output_type": "execute_result"
    }
   ],
   "source": [
    "#Exporing the column names in this dataset\n",
    "cod_df.columns"
   ]
  },
  {
   "cell_type": "code",
   "execution_count": 5,
   "metadata": {},
   "outputs": [
    {
     "data": {
      "text/plain": [
       "count    1558.000000\n",
       "mean      153.002567\n",
       "std       301.984766\n",
       "min         0.000000\n",
       "25%         0.000000\n",
       "50%        10.000000\n",
       "75%       168.000000\n",
       "max      3519.000000\n",
       "Name: wins, dtype: float64"
      ]
     },
     "execution_count": 5,
     "metadata": {},
     "output_type": "execute_result"
    }
   ],
   "source": [
    "#My research question involves positive and negative game play outcomes. I will explore what the data looks like for these variables.\n",
    "cod_df['wins'].describe()"
   ]
  },
  {
   "cell_type": "code",
   "execution_count": 6,
   "metadata": {},
   "outputs": [
    {
     "data": {
      "text/plain": [
       "count     1558.000000\n",
       "mean      3753.001926\n",
       "std       7929.696675\n",
       "min          0.000000\n",
       "25%          4.000000\n",
       "50%        191.500000\n",
       "75%       3445.750000\n",
       "max      66935.000000\n",
       "Name: kills, dtype: float64"
      ]
     },
     "execution_count": 6,
     "metadata": {},
     "output_type": "execute_result"
    }
   ],
   "source": [
    "cod_df['kills'].describe()"
   ]
  },
  {
   "cell_type": "code",
   "execution_count": 7,
   "metadata": {},
   "outputs": [
    {
     "data": {
      "text/plain": [
       "count    1558.000000\n",
       "mean        0.637098\n",
       "std         0.430459\n",
       "min         0.000000\n",
       "25%         0.261442\n",
       "50%         0.732837\n",
       "75%         0.955293\n",
       "max         3.000000\n",
       "Name: kdRatio, dtype: float64"
      ]
     },
     "execution_count": 7,
     "metadata": {},
     "output_type": "execute_result"
    }
   ],
   "source": [
    "cod_df['kdRatio'].describe()"
   ]
  },
  {
   "cell_type": "code",
   "execution_count": 8,
   "metadata": {},
   "outputs": [
    {
     "data": {
      "text/plain": [
       "count    1558.000000\n",
       "mean        6.895379\n",
       "std        10.184677\n",
       "min         0.000000\n",
       "25%         0.000000\n",
       "50%         5.000000\n",
       "75%        12.000000\n",
       "max       235.000000\n",
       "Name: killstreak, dtype: float64"
      ]
     },
     "execution_count": 8,
     "metadata": {},
     "output_type": "execute_result"
    }
   ],
   "source": [
    "cod_df['killstreak'].describe()"
   ]
  },
  {
   "cell_type": "code",
   "execution_count": 9,
   "metadata": {},
   "outputs": [
    {
     "data": {
      "text/plain": [
       "count    1558.000000\n",
       "mean        4.998074\n",
       "std         7.005778\n",
       "min         0.000000\n",
       "25%         0.000000\n",
       "50%         2.000000\n",
       "75%         8.000000\n",
       "max        80.000000\n",
       "Name: losses, dtype: float64"
      ]
     },
     "execution_count": 9,
     "metadata": {},
     "output_type": "execute_result"
    }
   ],
   "source": [
    "cod_df['losses'].describe()"
   ]
  },
  {
   "cell_type": "code",
   "execution_count": 10,
   "metadata": {},
   "outputs": [
    {
     "data": {
      "text/plain": [
       "count      1558.000000\n",
       "mean      10330.189987\n",
       "std       22954.104384\n",
       "min           0.000000\n",
       "25%           0.000000\n",
       "50%         214.500000\n",
       "75%        9015.500000\n",
       "max      209851.000000\n",
       "Name: hits, dtype: float64"
      ]
     },
     "execution_count": 10,
     "metadata": {},
     "output_type": "execute_result"
    }
   ],
   "source": [
    "cod_df['hits'].describe()"
   ]
  },
  {
   "cell_type": "code",
   "execution_count": 11,
   "metadata": {},
   "outputs": [
    {
     "data": {
      "text/plain": [
       "count    1558.000000\n",
       "mean      425.915918\n",
       "std       786.182499\n",
       "min         0.000000\n",
       "25%         4.000000\n",
       "50%        51.000000\n",
       "75%       485.500000\n",
       "max      7479.000000\n",
       "Name: timePlayed, dtype: float64"
      ]
     },
     "execution_count": 11,
     "metadata": {},
     "output_type": "execute_result"
    }
   ],
   "source": [
    "cod_df['timePlayed'].describe()"
   ]
  },
  {
   "cell_type": "code",
   "execution_count": 12,
   "metadata": {},
   "outputs": [
    {
     "data": {
      "text/plain": [
       "count    1558.000000\n",
       "mean       21.428416\n",
       "std        82.640000\n",
       "min         0.000000\n",
       "25%         2.000000\n",
       "50%         3.031116\n",
       "75%         9.085714\n",
       "max      1349.000000\n",
       "Name: averageTime, dtype: float64"
      ]
     },
     "execution_count": 12,
     "metadata": {},
     "output_type": "execute_result"
    }
   ],
   "source": [
    "cod_df['averageTime'].describe() "
   ]
  },
  {
   "cell_type": "code",
   "execution_count": 13,
   "metadata": {},
   "outputs": [
    {
     "data": {
      "text/plain": [
       "count      1558.000000\n",
       "mean      45356.671374\n",
       "std       97919.428339\n",
       "min           0.000000\n",
       "25%           0.000000\n",
       "50%        1307.500000\n",
       "75%       40906.750000\n",
       "max      965775.000000\n",
       "Name: misses, dtype: float64"
      ]
     },
     "execution_count": 13,
     "metadata": {},
     "output_type": "execute_result"
    }
   ],
   "source": [
    "cod_df['misses'].describe() "
   ]
  },
  {
   "cell_type": "code",
   "execution_count": 14,
   "metadata": {},
   "outputs": [
    {
     "data": {
      "text/plain": [
       "count    1.558000e+03\n",
       "mean     8.726335e+05\n",
       "std      1.795755e+06\n",
       "min      0.000000e+00\n",
       "25%      2.106250e+03\n",
       "50%      6.396800e+04\n",
       "75%      8.286690e+05\n",
       "max      1.497054e+07\n",
       "Name: xp, dtype: float64"
      ]
     },
     "execution_count": 14,
     "metadata": {},
     "output_type": "execute_result"
    }
   ],
   "source": [
    "cod_df['xp'].describe() "
   ]
  },
  {
   "cell_type": "code",
   "execution_count": 15,
   "metadata": {},
   "outputs": [
    {
     "data": {
      "text/plain": [
       "count     1558.000000\n",
       "mean      3875.397946\n",
       "std       7992.666443\n",
       "min          0.000000\n",
       "25%         14.000000\n",
       "50%        269.000000\n",
       "75%       3698.750000\n",
       "max      67888.000000\n",
       "Name: deaths, dtype: float64"
      ]
     },
     "execution_count": 15,
     "metadata": {},
     "output_type": "execute_result"
    }
   ],
   "source": [
    "cod_df['deaths'].describe() "
   ]
  },
  {
   "cell_type": "code",
   "execution_count": 16,
   "metadata": {},
   "outputs": [
    {
     "name": "stdout",
     "output_type": "stream",
     "text": [
      "name - 0%\n",
      "wins - 0%\n",
      "kills - 0%\n",
      "kdRatio - 0%\n",
      "killstreak - 0%\n",
      "level - 0%\n",
      "losses - 0%\n",
      "prestige - 0%\n",
      "hits - 0%\n",
      "timePlayed - 0%\n",
      "headshots - 0%\n",
      "averageTime - 0%\n",
      "gamesPlayed - 0%\n",
      "[ - 0%\n",
      "misses - 0%\n",
      "xp - 0%\n",
      "scorePerMinute - 0%\n",
      "shots - 0%\n",
      "deaths - 0%\n"
     ]
    }
   ],
   "source": [
    "#Checking for missing data percentages\n",
    "for col in cod_df.columns:\n",
    "    pct_missing = np.mean(cod_df[col].isnull())\n",
    "    print('{} - {}%'.format(col, round(pct_missing*100)))\n",
    "#No missing data - YAY!!!"
   ]
  },
  {
   "cell_type": "markdown",
   "metadata": {
    "azdata_cell_guid": "d45060f3-97bc-484a-9ef4-66145bbe9427"
   },
   "source": [
    "## Visualize\n",
    "\n",
    "Create any visualizations for your EDA here. Make note in the form of code comments of what your thought process is for your visualizations."
   ]
  },
  {
   "cell_type": "code",
   "execution_count": 17,
   "metadata": {
    "azdata_cell_guid": "f4565b03-759a-47a8-b58f-01b32a0b4b67"
   },
   "outputs": [
    {
     "data": {
      "text/plain": [
       "<Axes: >"
      ]
     },
     "execution_count": 17,
     "metadata": {},
     "output_type": "execute_result"
    },
    {
     "data": {
      "image/png": "[encoded data removed]",
      "text/plain": [
       "<Figure size 640x480 with 2 Axes>"
      ]
     },
     "metadata": {},
     "output_type": "display_data"
    }
   ],
   "source": [
    "#Checking visually for missing data - I already know there is no missing but showing a way to do this with visual\n",
    "cols = cod_df.columns\n",
    "colours = ['#000099', '#ffff00']\n",
    "sns.heatmap(cod_df[cols].isnull(), cmap=sns.color_palette(colours))"
   ]
  },
  {
   "cell_type": "code",
   "execution_count": 18,
   "metadata": {
    "azdata_cell_guid": "cd64bab1-db4c-4295-820d-c6464b653a3e"
   },
   "outputs": [
    {
     "data": {
      "text/plain": [
       "<Axes: >"
      ]
     },
     "execution_count": 18,
     "metadata": {},
     "output_type": "execute_result"
    },
    {
     "data": {
      "image/png": "[encoded data removed]",
      "text/plain": [
       "<Figure size 640x480 with 1 Axes>"
      ]
     },
     "metadata": {},
     "output_type": "display_data"
    }
   ],
   "source": [
    "#Checking the distribution of my outcome variables - 'timePlayed' and 'averageTime'\n",
    "sns.boxplot(data=cod_df['timePlayed'])"
   ]
  },
  {
   "cell_type": "code",
   "execution_count": 19,
   "metadata": {},
   "outputs": [
    {
     "data": {
      "text/plain": [
       "(array([1.261e+03, 1.550e+02, 7.500e+01, 3.600e+01, 1.700e+01, 1.000e+01,\n",
       "        0.000e+00, 1.000e+00, 2.000e+00, 1.000e+00]),\n",
       " array([   0. ,  747.9, 1495.8, 2243.7, 2991.6, 3739.5, 4487.4, 5235.3,\n",
       "        5983.2, 6731.1, 7479. ]),\n",
       " <BarContainer object of 10 artists>)"
      ]
     },
     "execution_count": 19,
     "metadata": {},
     "output_type": "execute_result"
    },
    {
     "data": {
      "image/png": "[encoded data removed]",
      "text/plain": [
       "<Figure size 640x480 with 1 Axes>"
      ]
     },
     "metadata": {},
     "output_type": "display_data"
    }
   ],
   "source": [
    "plt.hist(cod_df['timePlayed'])\n",
    "#timePlayed is skewed and has outliers- some intense players play longer and drive up my mean"
   ]
  },
  {
   "cell_type": "code",
   "execution_count": 20,
   "metadata": {},
   "outputs": [
    {
     "data": {
      "text/plain": [
       "<Axes: >"
      ]
     },
     "execution_count": 20,
     "metadata": {},
     "output_type": "execute_result"
    },
    {
     "data": {
      "image/png": "[encoded data removed]",
      "text/plain": [
       "<Figure size 640x480 with 1 Axes>"
      ]
     },
     "metadata": {},
     "output_type": "display_data"
    }
   ],
   "source": [
    "sns.boxplot(data=cod_df['averageTime'])"
   ]
  },
  {
   "cell_type": "code",
   "execution_count": 21,
   "metadata": {
    "scrolled": true
   },
   "outputs": [
    {
     "data": {
      "text/plain": [
       "(array([1.51e+03, 2.50e+01, 9.00e+00, 4.00e+00, 2.00e+00, 4.00e+00,\n",
       "        1.00e+00, 2.00e+00, 0.00e+00, 1.00e+00]),\n",
       " array([   0. ,  134.9,  269.8,  404.7,  539.6,  674.5,  809.4,  944.3,\n",
       "        1079.2, 1214.1, 1349. ]),\n",
       " <BarContainer object of 10 artists>)"
      ]
     },
     "execution_count": 21,
     "metadata": {},
     "output_type": "execute_result"
    },
    {
     "data": {
      "image/png": "[encoded data removed]",
      "text/plain": [
       "<Figure size 640x480 with 1 Axes>"
      ]
     },
     "metadata": {},
     "output_type": "display_data"
    }
   ],
   "source": [
    "plt.hist(cod_df['averageTime'])\n",
    "#Similar results for averageTime"
   ]
  },
  {
   "cell_type": "code",
   "execution_count": 5,
   "metadata": {},
   "outputs": [
    {
     "data": {
      "text/plain": [
       "count    1.558000e+03\n",
       "mean     8.726335e+05\n",
       "std      1.795755e+06\n",
       "min      0.000000e+00\n",
       "25%      2.106250e+03\n",
       "50%      6.396800e+04\n",
       "75%      8.286690e+05\n",
       "max      1.497054e+07\n",
       "Name: xp, dtype: float64"
      ]
     },
     "execution_count": 5,
     "metadata": {},
     "output_type": "execute_result"
    }
   ],
   "source": [
    "## Looking at the distribution so I can use a calculated field to categorize XP into low, medium, and high\n",
    "cod_df['xp'].describe()"
   ]
  },
  {
   "cell_type": "code",
   "execution_count": 6,
   "metadata": {},
   "outputs": [
    {
     "name": "stdout",
     "output_type": "stream",
     "text": [
      "<class 'pandas.core.series.Series'>\n",
      "RangeIndex: 1558 entries, 0 to 1557\n",
      "Series name: xp\n",
      "Non-Null Count  Dtype\n",
      "--------------  -----\n",
      "1558 non-null   int64\n",
      "dtypes: int64(1)\n",
      "memory usage: 12.3 KB\n"
     ]
    }
   ],
   "source": [
    "cod_df['xp'].info()"
   ]
  },
  {
   "cell_type": "code",
   "execution_count": 7,
   "metadata": {},
   "outputs": [
    {
     "data": {
      "text/plain": [
       "(array([1.291e+03, 1.150e+02, 6.800e+01, 2.900e+01, 2.900e+01, 1.400e+01,\n",
       "        5.000e+00, 4.000e+00, 1.000e+00, 2.000e+00]),\n",
       " array([       0. ,  1497053.9,  2994107.8,  4491161.7,  5988215.6,\n",
       "         7485269.5,  8982323.4, 10479377.3, 11976431.2, 13473485.1,\n",
       "        14970539. ]),\n",
       " <BarContainer object of 10 artists>)"
      ]
     },
     "execution_count": 7,
     "metadata": {},
     "output_type": "execute_result"
    },
    {
     "data": {
      "image/png": "[encoded data removed]",
      "text/plain": [
       "<Figure size 640x480 with 1 Axes>"
      ]
     },
     "metadata": {},
     "output_type": "display_data"
    }
   ],
   "source": [
    "plt.hist(cod_df['xp'])"
   ]
  },
  {
   "cell_type": "markdown",
   "metadata": {
    "azdata_cell_guid": "d4931c0c-2c09-4ee1-95d4-73dd08c2f0a6"
   },
   "source": [
    "## Summarize Your Results\n",
    "\n",
    "With your EDA complete, answer the following questions.\n",
    "\n",
    "<Br> 1. Was there anything surprising about your dataset? \n",
    "<Br> No, not really. Even though my outcome variables, total and average time playing the video game, were skewed, this was not surprising. \n",
    "<Br> 2. Do you have any concerns about your dataset? \n",
    "<Br> My only concern is that total time played might not be meaningful. People who play a lot have more wins due to just having played longer to earn them. So, a relationship between these variables may not be important. I think I will focus more on average time played as this reflects how gameplay impacts a single session of game play. \n",
    "<Br> 3. Is there anything you want to make note of for the next phase of your analysis, which is cleaning data? \n",
    "<Br> I am concerned that I will need to decide how many players to eliminate who are outliers in their average time played. There are at least 4-5 players who clocked in average game times that exceeded most players time. But, I do not want to eliminate too many players and may need to consider using standard deviations as a formal cut off for outliers (i.e., players who are 2+ SDs above the mean are eliminated as outliers)."
   ]
  }
 ],
 "metadata": {
  "kernelspec": {
   "display_name": "Python 3 (ipykernel)",
   "language": "python",
   "name": "python3"
  },
  "language_info": {
   "codemirror_mode": {
    "name": "ipython",
    "version": 3
   },
   "file_extension": ".py",
   "mimetype": "text/x-python",
   "name": "python",
   "nbconvert_exporter": "python",
   "pygments_lexer": "ipython3",
   "version": "3.10.9"
  }
 },
 "nbformat": 4,
 "nbformat_minor": 2
}
